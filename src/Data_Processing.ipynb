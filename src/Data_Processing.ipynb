{
 "cells": [
  {
   "cell_type": "markdown",
   "id": "2b759bea-375b-4d91-a3b7-9c4ad365df3c",
   "metadata": {},
   "source": [
    "# Data Processing: Mock Data\n",
    "\n",
    "We will use this notebook for modifying the data we are inputing into our model for training. We strongly recommend creating a **virtual environment** before running the following code. Let's start by getting our dependencies."
   ]
  },
  {
   "cell_type": "code",
   "execution_count": 5,
   "id": "7034ec8e-a438-4b58-af6f-a021af640016",
   "metadata": {},
   "outputs": [
    {
     "name": "stdout",
     "output_type": "stream",
     "text": [
      "Requirement already satisfied: tensorflow-recommenders in d:\\programas\\anaconda\\envs\\tensorflow_dev\\lib\\site-packages (0.6.0)\n",
      "Requirement already satisfied: tensorflow>=2.6.0 in d:\\programas\\anaconda\\envs\\tensorflow_dev\\lib\\site-packages (from tensorflow-recommenders) (2.7.0)\n",
      "Requirement already satisfied: absl-py>=0.1.6 in d:\\programas\\anaconda\\envs\\tensorflow_dev\\lib\\site-packages (from tensorflow-recommenders) (0.12.0)\n",
      "Requirement already satisfied: six in d:\\programas\\anaconda\\envs\\tensorflow_dev\\lib\\site-packages (from absl-py>=0.1.6->tensorflow-recommenders) (1.16.0)\n",
      "Requirement already satisfied: keras-preprocessing>=1.1.1 in d:\\programas\\anaconda\\envs\\tensorflow_dev\\lib\\site-packages (from tensorflow>=2.6.0->tensorflow-recommenders) (1.1.2)\n",
      "Requirement already satisfied: protobuf>=3.9.2 in d:\\programas\\anaconda\\envs\\tensorflow_dev\\lib\\site-packages (from tensorflow>=2.6.0->tensorflow-recommenders) (3.19.1)\n",
      "Requirement already satisfied: numpy>=1.14.5 in d:\\programas\\anaconda\\envs\\tensorflow_dev\\lib\\site-packages (from tensorflow>=2.6.0->tensorflow-recommenders) (1.21.4)\n",
      "Requirement already satisfied: wrapt>=1.11.0 in d:\\programas\\anaconda\\envs\\tensorflow_dev\\lib\\site-packages (from tensorflow>=2.6.0->tensorflow-recommenders) (1.12.1)\n",
      "Requirement already satisfied: tensorflow-estimator<2.8,~=2.7.0rc0 in d:\\programas\\anaconda\\envs\\tensorflow_dev\\lib\\site-packages (from tensorflow>=2.6.0->tensorflow-recommenders) (2.7.0)\n",
      "Requirement already satisfied: tensorflow-io-gcs-filesystem>=0.21.0 in d:\\programas\\anaconda\\envs\\tensorflow_dev\\lib\\site-packages (from tensorflow>=2.6.0->tensorflow-recommenders) (0.22.0)\n",
      "Requirement already satisfied: grpcio<2.0,>=1.24.3 in d:\\programas\\anaconda\\envs\\tensorflow_dev\\lib\\site-packages (from tensorflow>=2.6.0->tensorflow-recommenders) (1.41.1)\n",
      "Requirement already satisfied: h5py>=2.9.0 in d:\\programas\\anaconda\\envs\\tensorflow_dev\\lib\\site-packages (from tensorflow>=2.6.0->tensorflow-recommenders) (3.5.0)\n",
      "Requirement already satisfied: typing-extensions>=3.6.6 in d:\\programas\\anaconda\\envs\\tensorflow_dev\\lib\\site-packages (from tensorflow>=2.6.0->tensorflow-recommenders) (3.10.0.2)\n",
      "Requirement already satisfied: flatbuffers<3.0,>=1.12 in d:\\programas\\anaconda\\envs\\tensorflow_dev\\lib\\site-packages (from tensorflow>=2.6.0->tensorflow-recommenders) (2.0)\n",
      "Requirement already satisfied: libclang>=9.0.1 in d:\\programas\\anaconda\\envs\\tensorflow_dev\\lib\\site-packages (from tensorflow>=2.6.0->tensorflow-recommenders) (12.0.0)\n",
      "Requirement already satisfied: astunparse>=1.6.0 in d:\\programas\\anaconda\\envs\\tensorflow_dev\\lib\\site-packages (from tensorflow>=2.6.0->tensorflow-recommenders) (1.6.3)\n",
      "Requirement already satisfied: termcolor>=1.1.0 in d:\\programas\\anaconda\\envs\\tensorflow_dev\\lib\\site-packages (from tensorflow>=2.6.0->tensorflow-recommenders) (1.1.0)\n",
      "Requirement already satisfied: google-pasta>=0.1.1 in d:\\programas\\anaconda\\envs\\tensorflow_dev\\lib\\site-packages (from tensorflow>=2.6.0->tensorflow-recommenders) (0.2.0)\n",
      "Requirement already satisfied: tensorboard~=2.6 in d:\\programas\\anaconda\\envs\\tensorflow_dev\\lib\\site-packages (from tensorflow>=2.6.0->tensorflow-recommenders) (2.7.0)\n",
      "Requirement already satisfied: opt-einsum>=2.3.2 in d:\\programas\\anaconda\\envs\\tensorflow_dev\\lib\\site-packages (from tensorflow>=2.6.0->tensorflow-recommenders) (3.3.0)\n",
      "Requirement already satisfied: wheel<1.0,>=0.32.0 in d:\\programas\\anaconda\\envs\\tensorflow_dev\\lib\\site-packages (from tensorflow>=2.6.0->tensorflow-recommenders) (0.37.0)\n",
      "Requirement already satisfied: gast<0.5.0,>=0.2.1 in d:\\programas\\anaconda\\envs\\tensorflow_dev\\lib\\site-packages (from tensorflow>=2.6.0->tensorflow-recommenders) (0.4.0)\n",
      "Requirement already satisfied: keras<2.8,>=2.7.0rc0 in d:\\programas\\anaconda\\envs\\tensorflow_dev\\lib\\site-packages (from tensorflow>=2.6.0->tensorflow-recommenders) (2.7.0)\n",
      "Requirement already satisfied: tensorboard-data-server<0.7.0,>=0.6.0 in d:\\programas\\anaconda\\envs\\tensorflow_dev\\lib\\site-packages (from tensorboard~=2.6->tensorflow>=2.6.0->tensorflow-recommenders) (0.6.1)\n",
      "Requirement already satisfied: google-auth<3,>=1.6.3 in d:\\programas\\anaconda\\envs\\tensorflow_dev\\lib\\site-packages (from tensorboard~=2.6->tensorflow>=2.6.0->tensorflow-recommenders) (2.3.3)\n",
      "Requirement already satisfied: requests<3,>=2.21.0 in d:\\programas\\anaconda\\envs\\tensorflow_dev\\lib\\site-packages (from tensorboard~=2.6->tensorflow>=2.6.0->tensorflow-recommenders) (2.26.0)\n",
      "Requirement already satisfied: werkzeug>=0.11.15 in d:\\programas\\anaconda\\envs\\tensorflow_dev\\lib\\site-packages (from tensorboard~=2.6->tensorflow>=2.6.0->tensorflow-recommenders) (2.0.2)\n",
      "Requirement already satisfied: setuptools>=41.0.0 in d:\\programas\\anaconda\\envs\\tensorflow_dev\\lib\\site-packages (from tensorboard~=2.6->tensorflow>=2.6.0->tensorflow-recommenders) (58.0.4)\n",
      "Requirement already satisfied: markdown>=2.6.8 in d:\\programas\\anaconda\\envs\\tensorflow_dev\\lib\\site-packages (from tensorboard~=2.6->tensorflow>=2.6.0->tensorflow-recommenders) (3.3.4)\n",
      "Requirement already satisfied: tensorboard-plugin-wit>=1.6.0 in d:\\programas\\anaconda\\envs\\tensorflow_dev\\lib\\site-packages (from tensorboard~=2.6->tensorflow>=2.6.0->tensorflow-recommenders) (1.8.0)\n",
      "Requirement already satisfied: google-auth-oauthlib<0.5,>=0.4.1 in d:\\programas\\anaconda\\envs\\tensorflow_dev\\lib\\site-packages (from tensorboard~=2.6->tensorflow>=2.6.0->tensorflow-recommenders) (0.4.6)\n",
      "Requirement already satisfied: pyasn1-modules>=0.2.1 in d:\\programas\\anaconda\\envs\\tensorflow_dev\\lib\\site-packages (from google-auth<3,>=1.6.3->tensorboard~=2.6->tensorflow>=2.6.0->tensorflow-recommenders) (0.2.8)\n",
      "Requirement already satisfied: cachetools<5.0,>=2.0.0 in d:\\programas\\anaconda\\envs\\tensorflow_dev\\lib\\site-packages (from google-auth<3,>=1.6.3->tensorboard~=2.6->tensorflow>=2.6.0->tensorflow-recommenders) (4.2.4)\n",
      "Requirement already satisfied: rsa<5,>=3.1.4 in d:\\programas\\anaconda\\envs\\tensorflow_dev\\lib\\site-packages (from google-auth<3,>=1.6.3->tensorboard~=2.6->tensorflow>=2.6.0->tensorflow-recommenders) (4.7.2)\n",
      "Requirement already satisfied: requests-oauthlib>=0.7.0 in d:\\programas\\anaconda\\envs\\tensorflow_dev\\lib\\site-packages (from google-auth-oauthlib<0.5,>=0.4.1->tensorboard~=2.6->tensorflow>=2.6.0->tensorflow-recommenders) (1.3.0)\n",
      "Requirement already satisfied: idna<4,>=2.5 in d:\\programas\\anaconda\\envs\\tensorflow_dev\\lib\\site-packages (from requests<3,>=2.21.0->tensorboard~=2.6->tensorflow>=2.6.0->tensorflow-recommenders) (3.2)\n",
      "Requirement already satisfied: certifi>=2017.4.17 in d:\\programas\\anaconda\\envs\\tensorflow_dev\\lib\\site-packages (from requests<3,>=2.21.0->tensorboard~=2.6->tensorflow>=2.6.0->tensorflow-recommenders) (2021.10.8)\n",
      "Requirement already satisfied: urllib3<1.27,>=1.21.1 in d:\\programas\\anaconda\\envs\\tensorflow_dev\\lib\\site-packages (from requests<3,>=2.21.0->tensorboard~=2.6->tensorflow>=2.6.0->tensorflow-recommenders) (1.26.7)\n",
      "Requirement already satisfied: charset-normalizer~=2.0.0 in d:\\programas\\anaconda\\envs\\tensorflow_dev\\lib\\site-packages (from requests<3,>=2.21.0->tensorboard~=2.6->tensorflow>=2.6.0->tensorflow-recommenders) (2.0.4)\n",
      "Requirement already satisfied: pyasn1<0.5.0,>=0.4.6 in d:\\programas\\anaconda\\envs\\tensorflow_dev\\lib\\site-packages (from pyasn1-modules>=0.2.1->google-auth<3,>=1.6.3->tensorboard~=2.6->tensorflow>=2.6.0->tensorflow-recommenders) (0.4.8)\n",
      "Requirement already satisfied: oauthlib>=3.0.0 in d:\\programas\\anaconda\\envs\\tensorflow_dev\\lib\\site-packages (from requests-oauthlib>=0.7.0->google-auth-oauthlib<0.5,>=0.4.1->tensorboard~=2.6->tensorflow>=2.6.0->tensorflow-recommenders) (3.1.1)\n"
     ]
    },
    {
     "name": "stderr",
     "output_type": "stream",
     "text": [
      "WARNING: Ignoring invalid distribution -ip (d:\\programas\\anaconda\\envs\\tensorflow_dev\\lib\\site-packages)\n",
      "WARNING: Ignoring invalid distribution -ip (d:\\programas\\anaconda\\envs\\tensorflow_dev\\lib\\site-packages)\n",
      "WARNING: Ignoring invalid distribution -ip (d:\\programas\\anaconda\\envs\\tensorflow_dev\\lib\\site-packages)\n",
      "WARNING: Ignoring invalid distribution -ip (d:\\programas\\anaconda\\envs\\tensorflow_dev\\lib\\site-packages)\n",
      "WARNING: Ignoring invalid distribution -ip (d:\\programas\\anaconda\\envs\\tensorflow_dev\\lib\\site-packages)\n",
      "WARNING: Ignoring invalid distribution -ip (d:\\programas\\anaconda\\envs\\tensorflow_dev\\lib\\site-packages)\n",
      "WARNING: Ignoring invalid distribution -ip (d:\\programas\\anaconda\\envs\\tensorflow_dev\\lib\\site-packages)\n",
      "WARNING: Ignoring invalid distribution -ip (d:\\programas\\anaconda\\envs\\tensorflow_dev\\lib\\site-packages)\n",
      "WARNING: Ignoring invalid distribution -ip (d:\\programas\\anaconda\\envs\\tensorflow_dev\\lib\\site-packages)\n",
      "WARNING: Ignoring invalid distribution -ip (d:\\programas\\anaconda\\envs\\tensorflow_dev\\lib\\site-packages)\n"
     ]
    }
   ],
   "source": [
    "!pip install tensorflow-recommenders\n",
    "!pip install -q --upgrade tensorflow-datasets"
   ]
  },
  {
   "cell_type": "markdown",
   "id": "be8d2e04-9be0-4c99-9437-dbaba7bfdce6",
   "metadata": {
    "tags": []
   },
   "source": [
    "## Imports\n",
    "\n",
    "Next, let's invoke the necessary packages."
   ]
  },
  {
   "cell_type": "code",
   "execution_count": 1,
   "id": "47306f4c-0be3-4619-9575-d4e0296e8397",
   "metadata": {},
   "outputs": [],
   "source": [
    "import os\n",
    "import pprint\n",
    "\n",
    "from typing import Dict, Text\n",
    "\n",
    "import numpy as np\n",
    "import tensorflow as tf\n",
    "import tensorflow_datasets as tfds\n",
    "\n",
    "import tensorflow_recommenders as tfrs"
   ]
  },
  {
   "cell_type": "markdown",
   "id": "5a753549-b20f-4a02-8ea3-7be69da9698c",
   "metadata": {},
   "source": [
    "## Dataset\n",
    "\n",
    "This is included in the TensorFlow library. We intend to use the MovieLens ratings dataset."
   ]
  },
  {
   "cell_type": "code",
   "execution_count": 5,
   "id": "75f64cf6-2216-4e03-8d1a-f19a2afd5c31",
   "metadata": {
    "tags": []
   },
   "outputs": [],
   "source": [
    "# Ratings data.\n",
    "ratings = tfds.load(\"movielens/100k-ratings\", split=\"train\")\n",
    "# Features of all the available movies.\n",
    "movies = tfds.load(\"movielens/100k-movies\", split=\"train\")"
   ]
  },
  {
   "cell_type": "markdown",
   "id": "6478db7d-9111-4fa7-acd5-6746f472652c",
   "metadata": {},
   "source": [
    "Let's take a look at the data structure:"
   ]
  },
  {
   "cell_type": "code",
   "execution_count": 6,
   "id": "791f869d-3c6f-4d74-bdf3-9ff09175cede",
   "metadata": {},
   "outputs": [
    {
     "name": "stdout",
     "output_type": "stream",
     "text": [
      "Rating: \n",
      "{'bucketized_user_age': 45.0,\n",
      " 'movie_genres': array([7], dtype=int64),\n",
      " 'movie_id': b'357',\n",
      " 'movie_title': b\"One Flew Over the Cuckoo's Nest (1975)\",\n",
      " 'raw_user_age': 46.0,\n",
      " 'timestamp': 879024327,\n",
      " 'user_gender': True,\n",
      " 'user_id': b'138',\n",
      " 'user_occupation_label': 4,\n",
      " 'user_occupation_text': b'doctor',\n",
      " 'user_rating': 4.0,\n",
      " 'user_zip_code': b'53211'}\n",
      "Movie: \n",
      "{'movie_genres': array([4], dtype=int64),\n",
      " 'movie_id': b'1681',\n",
      " 'movie_title': b'You So Crazy (1994)'}\n"
     ]
    }
   ],
   "source": [
    "for x in ratings.take(1).as_numpy_iterator():\n",
    "    print(\"Rating: \")\n",
    "    pprint.pprint(x)\n",
    "\n",
    "for x in movies.take(1).as_numpy_iterator():\n",
    "    print(\"Movie: \")\n",
    "    pprint.pprint(x)"
   ]
  },
  {
   "cell_type": "markdown",
   "id": "b92bb925-c9ab-402a-b2aa-362233733be8",
   "metadata": {},
   "source": [
    "You can modify the limits of the previous for-loops if you would like to see more examples. The next thing to do is to process the data. We only need `user_id` and `movie_title` for training our model."
   ]
  },
  {
   "cell_type": "code",
   "execution_count": 7,
   "id": "8f919265-fed3-4fce-97bc-f63fd1b19841",
   "metadata": {},
   "outputs": [],
   "source": [
    "ratings = ratings.map(lambda x: {\n",
    "    \"movie_title\": x[\"movie_title\"],\n",
    "    \"user_id\": x[\"user_id\"],\n",
    "})\n",
    "movies = movies.map(lambda x: x[\"movie_title\"])"
   ]
  },
  {
   "cell_type": "markdown",
   "id": "eb78129b-b12f-4130-962b-bbbf51ad827b",
   "metadata": {},
   "source": [
    "Next, we will identify unique `user_id`s and `movie_title`s. This is for having the vocabulary necessary for embedding vectors mapping."
   ]
  },
  {
   "cell_type": "code",
   "execution_count": 15,
   "id": "824ebbb6-e622-4d40-b436-5c46c8b3f1c6",
   "metadata": {},
   "outputs": [
    {
     "name": "stdout",
     "output_type": "stream",
     "text": [
      "Unique Movie Titles: 1664\n",
      "Unique User IDs: 943\n"
     ]
    }
   ],
   "source": [
    "movie_titles = movies.batch(1_000)\n",
    "user_ids = ratings.batch(1_000_000).map(lambda x: x[\"user_id\"])\n",
    "\n",
    "unique_movie_titles = np.unique(np.concatenate(list(movie_titles)))\n",
    "unique_user_ids = np.unique(np.concatenate(list(user_ids)))\n",
    "\n",
    "\n",
    "print(\"Unique Movie Titles:\", len(unique_movie_titles))\n",
    "print(\"Unique User IDs:\", len(unique_user_ids))"
   ]
  },
  {
   "cell_type": "code",
   "execution_count": 16,
   "id": "a2c0936c-1f02-40cf-b1db-467b325e1ea2",
   "metadata": {},
   "outputs": [
    {
     "data": {
      "text/plain": [
       "array([b\"'Til There Was You (1997)\", b'1-900 (1994)',\n",
       "       b'101 Dalmatians (1996)', ..., b'Zeus and Roxanne (1997)',\n",
       "       b'unknown', b'\\xc3\\x81 k\\xc3\\xb6ldum klaka (Cold Fever) (1994)'],\n",
       "      dtype=object)"
      ]
     },
     "execution_count": 16,
     "metadata": {},
     "output_type": "execute_result"
    }
   ],
   "source": [
    "unique_movie_titles"
   ]
  },
  {
   "cell_type": "code",
   "execution_count": null,
   "id": "f2a12be1-e6cc-41b7-8e54-d401eddbfc74",
   "metadata": {},
   "outputs": [],
   "source": []
  }
 ],
 "metadata": {
  "kernelspec": {
   "display_name": "Python 3 (ipykernel)",
   "language": "python",
   "name": "python3"
  },
  "language_info": {
   "codemirror_mode": {
    "name": "ipython",
    "version": 3
   },
   "file_extension": ".py",
   "mimetype": "text/x-python",
   "name": "python",
   "nbconvert_exporter": "python",
   "pygments_lexer": "ipython3",
   "version": "3.8.12"
  }
 },
 "nbformat": 4,
 "nbformat_minor": 5
}
